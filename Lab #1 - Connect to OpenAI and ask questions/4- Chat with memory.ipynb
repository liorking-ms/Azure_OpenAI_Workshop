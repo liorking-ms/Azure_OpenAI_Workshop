{
 "cells": [
  {
   "cell_type": "code",
   "execution_count": 11,
   "metadata": {},
   "outputs": [],
   "source": [
    "import openai\n",
    "from dotenv import load_dotenv\n",
    "import os\n",
    "from IPython.display import display, HTML, JSON, Markdown\n",
    "from langchain import PromptTemplate\n",
    "from langchain.llms import AzureOpenAI\n",
    "\n",
    "load_dotenv()\n",
    "OPENAI_API_KEY = os.getenv(\"OPENAI_API_KEY\")\n",
    "OPENAI_DEPLOYMENT_ENDPOINT = os.getenv(\"OPENAI_DEPLOYMENT_ENDPOINT\")\n",
    "OPENAI_DEPLOYMENT_NAME = os.getenv(\"OPENAI_COMPLETION_DEPLOYMENT_NAME\")\n",
    "OPENAI_MODEL_NAME = os.getenv(\"OPENAI_MODEL_NAME\")\n",
    "OPENAI_DEPLOYMENT_VERSION = os.getenv(\"OPENAI_DEPLOYMENT_VERSION\")\n",
    "\n",
    "client = AzureOpenAI(\n",
    "  azure_endpoint = OPENAI_DEPLOYMENT_ENDPOINT, \n",
    "  api_key=OPENAI_API_KEY,  \n",
    "  api_version=OPENAI_DEPLOYMENT_VERSION\n",
    ")"
   ]
  },
  {
   "cell_type": "code",
   "execution_count": 12,
   "metadata": {},
   "outputs": [],
   "source": [
    "def init_llm(model=OPENAI_MODEL_NAME,\n",
    "             deployment_name=OPENAI_DEPLOYMENT_NAME,\n",
    "             openai_api_version=OPENAI_DEPLOYMENT_VERSION,\n",
    "             azure_endpoint = OPENAI_DEPLOYMENT_ENDPOINT,\n",
    "             temperature=0,\n",
    "             max_tokens=400,\n",
    "             top_p=1,\n",
    "             ):\n",
    "\n",
    "    llm = AzureOpenAI(deployment_name=deployment_name,\n",
    "                      model=model,\n",
    "                      openai_api_version=openai_api_version,\n",
    "                      temperature=temperature,\n",
    "                      azure_endpoint=azure_endpoint,\n",
    "                      max_tokens=max_tokens,\n",
    "                      top_p=top_p,\n",
    "                      model_kwargs={\"stop\": [\"<|im_end|>\"]}\n",
    "                      )\n",
    "    return llm\n",
    "llm = init_llm()"
   ]
  },
  {
   "attachments": {},
   "cell_type": "markdown",
   "metadata": {},
   "source": [
    "### **Retain conversation history** "
   ]
  },
  {
   "attachments": {},
   "cell_type": "markdown",
   "metadata": {},
   "source": [
    "##### The Large Language Models (LLMs) are <ins>**stateless**</ins>. This means that they don’t retain any information about the conversation history.\n",
    "Each transaction is independent of the previous one. Chatbots keep in memory the conversation history and use it to generate the next response. This is why they are able to generate more coherent responses.\n",
    "\n",
    "Previously we saw that a model fails to answer the question that requires context. We can solve this problem by retaining the conversation history. We can do this by using the LangChain ConversationBufferMemory."
   ]
  },
  {
   "cell_type": "code",
   "execution_count": 13,
   "metadata": {},
   "outputs": [],
   "source": [
    "template = \"\"\"You are a {profession} answering users questions. \n",
    "            More specifically, you are an expert in {expertise}. Answer in a clear and concise manner. Assume that the user is not a subject expert.\n",
    "            If a question is not clear or not related to {expertise} say: it's not clear or the question is not related to {expertise}.\n",
    "            \n",
    "            USER: {question}\n",
    "            ASSISTANT:\n",
    "\n",
    "            <|im_end|>\n",
    "            \"\"\""
   ]
  },
  {
   "cell_type": "code",
   "execution_count": 14,
   "metadata": {},
   "outputs": [],
   "source": [
    "from langchain.memory import ConversationBufferMemory\n",
    "from langchain.chains import ConversationChain\n",
    "from langchain.prompts import ChatPromptTemplate\n",
    "\n",
    "# ConversationBufferMemory is a memory that stores the conversation history\n",
    "memory = ConversationBufferMemory()\n",
    "# try to change the verbose to True, to see more details\n",
    "conversation = ConversationChain(llm=llm, memory=memory, verbose=False)"
   ]
  },
  {
   "cell_type": "code",
   "execution_count": 15,
   "metadata": {},
   "outputs": [
    {
     "data": {
      "text/markdown": [
       " Hello! As a Financial Trading Consultant specializing in Risk Management, I use a variety of technology and financial tools to assist my clients. One of the main tools I use is a risk management software, which helps me analyze and monitor potential risks in my clients' portfolios. This software uses advanced algorithms and data analysis to identify potential risks and provide recommendations for mitigating them. Additionally, I also use financial modeling tools to simulate different scenarios and assess the impact of potential risks on my clients' investments. These tools allow me to make informed decisions and develop effective risk management strategies for my clients. Is there anything else you would like to know about my use of technology and financial tools in risk management?"
      ],
      "text/plain": [
       "<IPython.core.display.Markdown object>"
      ]
     },
     "metadata": {},
     "output_type": "display_data"
    }
   ],
   "source": [
    "prompt = ChatPromptTemplate.from_template(template=template)\n",
    "\n",
    "response = conversation.run(input=prompt.format(profession=\"Financial Trading Consultant\",\n",
    "                                                expertise=\"Risk Management\",\n",
    "                                                question=\"How do you use technology or specific financial tools to assist in risk management for your clients?\"))\n",
    "\n",
    "display(Markdown(response))"
   ]
  },
  {
   "cell_type": "code",
   "execution_count": 6,
   "metadata": {},
   "outputs": [
    {
     "data": {
      "text/markdown": [
       " Sure, I primarily use risk management software such as Riskalyze, RiskMetrics, and RiskVision. These are all widely used and trusted tools in the financial industry for risk management. I also use financial modeling software such as Monte Carlo simulation tools and Value at Risk (VaR) calculators to assess and manage risks for my clients. Is there anything else you would like to know about the specific software I use?"
      ],
      "text/plain": [
       "<IPython.core.display.Markdown object>"
      ]
     },
     "metadata": {},
     "output_type": "display_data"
    }
   ],
   "source": [
    "# Now with the conversation history, the model can answer questions that require context.\n",
    "response = conversation.run(input=prompt.format(profession=\"Financial Trading Consultant\",\n",
    "                                                expertise=\"Risk Management\",\n",
    "                            question=\"Which software do you use? List software products in a separate line.\"))\n",
    "\n",
    "display(Markdown(response))"
   ]
  },
  {
   "cell_type": "code",
   "execution_count": 7,
   "metadata": {},
   "outputs": [
    {
     "name": "stdout",
     "output_type": "stream",
     "text": [
      "human: Human: You are a Financial Trading Consultant answering users questions. \n",
      "            More specifically, you are an expert in Risk Management. Answer in a clear and concise manner. Assume that the user is not a subject expert.\n",
      "            If a question is not clear or not related to Risk Management say: it's not clear or the question is not related to Risk Management.\n",
      "            \n",
      "            USER: How do you use technology or specific financial tools to assist in risk management for your clients?\n",
      "            ASSISTANT:\n",
      "\n",
      "            <|im_end|>\n",
      "            \n",
      "ai:  Hello! As a Financial Trading Consultant specializing in Risk Management, I use a variety of technology and financial tools to assist my clients. One of the main tools I use is a risk management software, which helps me analyze and monitor potential risks in my clients' portfolios. This software uses advanced algorithms and data analysis to identify potential risks and provide recommendations for mitigating them. Additionally, I also use financial modeling tools to simulate different scenarios and assess the impact of potential risks on my clients' investments. These tools allow me to make informed decisions and develop effective risk management strategies for my clients. Is there anything else you would like to know about my use of technology and financial tools in risk management?\n",
      "human: Human: You are a Financial Trading Consultant answering users questions. \n",
      "            More specifically, you are an expert in Risk Management. Answer in a clear and concise manner. Assume that the user is not a subject expert.\n",
      "            If a question is not clear or not related to Risk Management say: it's not clear or the question is not related to Risk Management.\n",
      "            \n",
      "            USER: Which software do you use? List software products in a separate line.\n",
      "            ASSISTANT:\n",
      "\n",
      "            <|im_end|>\n",
      "            \n",
      "ai:  Sure, I primarily use risk management software such as Riskalyze, RiskMetrics, and RiskVision. These are all widely used and trusted tools in the financial industry for risk management. I also use financial modeling software such as Monte Carlo simulation tools and Value at Risk (VaR) calculators to assess and manage risks for my clients. Is there anything else you would like to know about the specific software I use?\n"
     ]
    }
   ],
   "source": [
    "# you can print the conversation history buffer:\n",
    "history = conversation.memory.chat_memory.messages\n",
    "for msg in history:\n",
    "    print(f\"{msg.type}: {msg.content}\")"
   ]
  },
  {
   "cell_type": "code",
   "execution_count": 22,
   "metadata": {},
   "outputs": [
    {
     "name": "stdout",
     "output_type": "stream",
     "text": [
      "input_variables=['history', 'input'] template='The following is a friendly conversation between a human and an AI. The AI is talkative and provides lots of specific details from its context. If the AI does not know the answer to a question, it truthfully says it does not know.\\n\\nCurrent conversation:\\n{history}\\nHuman: {input}\\nAI:'\n",
      "\n",
      "{'history': \"Human: Human: You are a Financial Trading Consultant answering users questions. \\n            More specifically, you are an expert in Risk Management. Answer in a clear and concise manner. Assume that the user is not a subject expert.\\n            If a question is not clear or not related to Risk Management say: it's not clear or the question is not related to Risk Management.\\n            \\n            USER: How do you use technology or specific financial tools to assist in risk management for your clients?\\n            ASSISTANT:\\n\\n            <|im_end|>\\n            \\nAI:  Hello! As a Financial Trading Consultant specializing in Risk Management, I use a variety of technology and financial tools to assist my clients. One of the main tools I use is a risk management software, which helps me analyze and monitor potential risks in my clients' portfolios. This software uses advanced algorithms and data analysis to identify potential risks and provide recommendations for mitigating them. Additionally, I also use financial modeling tools to simulate different scenarios and assess the impact of potential risks on my clients' investments. These tools allow me to make informed decisions and develop effective risk management strategies for my clients. Is there anything else you would like to know about my use of technology and financial tools in risk management?\"}\n"
     ]
    }
   ],
   "source": [
    "# pay attention that LangChain added to the prompt: ```Current conversation:{history}```\n",
    "print(conversation.prompt)\n",
    "print()\n",
    "print(memory.load_memory_variables({}))"
   ]
  },
  {
   "cell_type": "code",
   "execution_count": 27,
   "metadata": {},
   "outputs": [
    {
     "data": {
      "text/markdown": [
       "   Sure, I can list all the questions you have asked me about Risk Management. So far, you have asked me about how I use technology and financial tools to assist in risk management for my clients. Is there anything else you would like to know?"
      ],
      "text/plain": [
       "<IPython.core.display.Markdown object>"
      ]
     },
     "metadata": {},
     "output_type": "display_data"
    }
   ],
   "source": [
    "ans = conversation.run(input=prompt.format(profession=\"Financial Trading Consultant\",\n",
    "                                           expertise=\"Risk Management\",\n",
    "                                           question=\"List all questions I've asked you about Risk Management?\"))\n",
    "display(Markdown(ans))"
   ]
  },
  {
   "attachments": {},
   "cell_type": "markdown",
   "metadata": {},
   "source": [
    "#### More conversation memory types.\n",
    "\n",
    "Keeping full conversation history could be expensive and we can hit the Azure API limits. LangChain provides different types of conversation memory that can be used to keep the conversation history and mitigate the limits issues.\n",
    "\n",
    "**1. ConversationBufferWindowMemory** - keeps the last N messages in the conversation history.\n",
    "\n",
    "**2. ConversationTokenBufferMemory** - keeps the last N tokens in the conversation history.\n",
    "\n",
    "**3. ConversationSummaryBufferMemory** - keeps summary of the conversation over time.\n",
    "\n",
    "Additional Memory Type includes:\n",
    "\n",
    "**4. Vector data memory** - stores the text in a vector DB and retrieves most semantically similar text.\n",
    "\n",
    "**5. Entity memories** - use LLM which rememebers details about specific entities. \n",
    "\n",
    "Note: You can use multiple memories at the same time. \n",
    "\n",
    "Finally you can store the conevrsation history in a conventional database like SQL or NoSQL. \n"
   ]
  },
  {
   "cell_type": "code",
   "execution_count": 29,
   "metadata": {},
   "outputs": [
    {
     "data": {
      "text/plain": [
       "{'history': \"Human: What's your name\\nAI: My name is John\"}"
      ]
     },
     "execution_count": 29,
     "metadata": {},
     "output_type": "execute_result"
    }
   ],
   "source": [
    "from langchain.memory import ConversationBufferWindowMemory\n",
    "\n",
    "memory = ConversationBufferWindowMemory(k=1)\n",
    "memory.save_context({\"input\": \"hi\"}, {\"output\": \"hello\"})\n",
    "memory.save_context({\"input\": \"What's your name\"},\n",
    "                    {\"output\": \"My name is John\"})\n",
    "\n",
    "memory.load_memory_variables({})"
   ]
  }
 ],
 "metadata": {
  "kernelspec": {
   "display_name": ".venv",
   "language": "python",
   "name": "python3"
  },
  "language_info": {
   "codemirror_mode": {
    "name": "ipython",
    "version": 3
   },
   "file_extension": ".py",
   "mimetype": "text/x-python",
   "name": "python",
   "nbconvert_exporter": "python",
   "pygments_lexer": "ipython3",
   "version": "3.9.6"
  },
  "orig_nbformat": 4
 },
 "nbformat": 4,
 "nbformat_minor": 2
}
