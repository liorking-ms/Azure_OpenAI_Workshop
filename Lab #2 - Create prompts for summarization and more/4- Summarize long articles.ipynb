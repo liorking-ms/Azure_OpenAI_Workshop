{
 "cells": [
  {
   "cell_type": "markdown",
   "metadata": {},
   "source": [
    "### Summarizing Long Articles"
   ]
  },
  {
   "cell_type": "code",
   "execution_count": 33,
   "metadata": {},
   "outputs": [],
   "source": [
    "from dotenv import load_dotenv\n",
    "import os\n",
    "from langchain.chat_models import AzureChatOpenAI\n",
    "#import textwrap\n",
    "from IPython.display import display, HTML, JSON, Markdown\n",
    "\n",
    "load_dotenv()\n",
    "OPENAI_API_KEY = os.getenv(\"OPENAI_API_KEY\")\n",
    "OPENAI_DEPLOYMENT_ENDPOINT = os.getenv(\"OPENAI_DEPLOYMENT_ENDPOINT\")\n",
    "OPENAI_DEPLOYMENT_NAME = os.getenv(\"OPENAI_DEPLOYMENT_NAME\")\n",
    "OPENAI_MODEL_NAME = os.getenv(\"OPENAI_MODEL_NAME\")\n",
    "OPENAI_DEPLOYMENT_VERSION = os.getenv(\"OPENAI_DEPLOYMENT_VERSION\")\n",
    "\n",
    "client = AzureChatOpenAI(\n",
    "  azure_endpoint = OPENAI_DEPLOYMENT_ENDPOINT, \n",
    "  api_key=OPENAI_API_KEY,  \n",
    "  api_version=\"2023-05-15\"\n",
    ")"
   ]
  },
  {
   "cell_type": "code",
   "execution_count": 39,
   "metadata": {},
   "outputs": [
    {
     "name": "stdout",
     "output_type": "stream",
     "text": [
      "Number of pages:  367\n"
     ]
    }
   ],
   "source": [
    "from langchain import PromptTemplate\n",
    "from langchain import text_splitter\n",
    "from langchain.chains.summarize import load_summarize_chain\n",
    "from langchain.document_loaders import PyPDFLoader\n",
    "\n",
    "fileName = \"./data/Best-Practices-in-Change-Management-Full-Report-Digital-11th-Edition.pdf\"\n",
    "loader = PyPDFLoader(fileName)\n",
    "pages = loader.load_and_split()\n",
    "print(\"Number of pages: \", len(pages))"
   ]
  },
  {
   "cell_type": "code",
   "execution_count": 41,
   "metadata": {},
   "outputs": [
    {
     "name": "stderr",
     "output_type": "stream",
     "text": [
      "WARNING! top_p is not default parameter.\n",
      "                    top_p was transferred to model_kwargs.\n",
      "                    Please confirm that top_p is what you intended.\n"
     ]
    }
   ],
   "source": [
    "def init_llm(model=OPENAI_MODEL_NAME,\n",
    "             deployment_name=OPENAI_DEPLOYMENT_NAME,\n",
    "             openai_api_version=OPENAI_DEPLOYMENT_VERSION,\n",
    "             azure_endpoint=OPENAI_DEPLOYMENT_ENDPOINT,\n",
    "             temperature=0,\n",
    "             max_tokens=3000,\n",
    "             top_p=1,\n",
    "             ):\n",
    "\n",
    "    llm = AzureChatOpenAI(deployment_name=deployment_name,\n",
    "                      model=model,\n",
    "                      openai_api_version=openai_api_version,\n",
    "                      azure_endpoint=azure_endpoint,\n",
    "                      temperature=temperature,\n",
    "                      max_tokens=max_tokens,\n",
    "                      top_p=top_p,\n",
    "                      model_kwargs={\"stop\": [\"<|im_end|>\"]}\n",
    "                      )\n",
    "    return llm\n",
    "llm = init_llm()"
   ]
  },
  {
   "cell_type": "code",
   "execution_count": 43,
   "metadata": {},
   "outputs": [],
   "source": [
    "map_prompt_template = \"\"\"\n",
    "                      Write a summary of this chunk of text that includes the main points and any important details.\n",
    "                      {text}\n",
    "                      \"\"\"\n",
    "\n",
    "map_prompt = PromptTemplate(template=map_prompt_template, input_variables=[\"text\"])\n",
    "\n",
    "combine_prompt_template = \"\"\"\n",
    "                      Write a concise summary of the following text delimited by triple backquotes.\n",
    "                      Return your response in bullet points which covers the key points of the text.\n",
    "                      ```{text}```\n",
    "                      BULLET POINT SUMMARY:\n",
    "                      \"\"\"\n",
    "\n",
    "combine_prompt = PromptTemplate(\n",
    "    template=combine_prompt_template, input_variables=[\"text\"]\n",
    ")"
   ]
  },
  {
   "cell_type": "markdown",
   "metadata": {},
   "source": [
    "_load_summarize_chain_ has 3 types of chains:\n",
    "1. **stuff** - The chain will take a list of documents, inserts them all into a prompt, and passes that prompt to the LLM.\n",
    "2. **map_reduce** - First, map each chunk to an individual summary using an LLMChain. Then, combine those summaries into a single global summary.\n",
    "3. **refine** -  Loop over the chunks and iteratively update the answer. For each chunk, it passes the meta-prompt, the current document, and the latest intermediate summary to an LLM chain to get a new summary."
   ]
  },
  {
   "cell_type": "markdown",
   "metadata": {},
   "source": [
    "The following example is demonstrates the \"map reduce\" chain type. "
   ]
  },
  {
   "cell_type": "code",
   "execution_count": 44,
   "metadata": {},
   "outputs": [],
   "source": [
    "map_reduce_chain = load_summarize_chain(\n",
    "    llm,\n",
    "    chain_type=\"map_reduce\",\n",
    "    map_prompt=map_prompt,\n",
    "    combine_prompt=combine_prompt,\n",
    "    return_intermediate_steps=True,\n",
    ")"
   ]
  },
  {
   "cell_type": "code",
   "execution_count": 45,
   "metadata": {},
   "outputs": [],
   "source": [
    "map_reduce_outputs = map_reduce_chain({\"input_documents\": pages})\n",
    "print(\"Number of outputs: \", len(map_reduce_outputs))"
   ]
  },
  {
   "cell_type": "markdown",
   "metadata": {},
   "source": [
    "In order to display the content of the _map_reduce_outputs_ object, we will use _pandas_ library which will help us to display the output as a table."
   ]
  },
  {
   "cell_type": "code",
   "execution_count": 24,
   "metadata": {},
   "outputs": [
    {
     "data": {
      "text/html": [
       "<div>\n",
       "<style scoped>\n",
       "    .dataframe tbody tr th:only-of-type {\n",
       "        vertical-align: middle;\n",
       "    }\n",
       "\n",
       "    .dataframe tbody tr th {\n",
       "        vertical-align: top;\n",
       "    }\n",
       "\n",
       "    .dataframe thead th {\n",
       "        text-align: right;\n",
       "    }\n",
       "</style>\n",
       "<table border=\"1\" class=\"dataframe\">\n",
       "  <thead>\n",
       "    <tr style=\"text-align: right;\">\n",
       "      <th></th>\n",
       "      <th>file_name</th>\n",
       "      <th>file_type</th>\n",
       "      <th>page_number</th>\n",
       "      <th>chunks</th>\n",
       "      <th>concise_summary</th>\n",
       "    </tr>\n",
       "  </thead>\n",
       "  <tbody>\n",
       "    <tr>\n",
       "      <th>0</th>\n",
       "      <td>Best-Practices-in-Change-Management-Full-Repor...</td>\n",
       "      <td>.pdf</td>\n",
       "      <td>0</td>\n",
       "      <td>11th EditionBest Practices In  \\nChange Manage...</td>\n",
       "      <td>The 11th edition of the Prosci Benchmarking Re...</td>\n",
       "    </tr>\n",
       "    <tr>\n",
       "      <th>1</th>\n",
       "      <td>Best-Practices-in-Change-Management-Full-Repor...</td>\n",
       "      <td>.pdf</td>\n",
       "      <td>1</td>\n",
       "      <td>© 2020 Prosci Inc.  •  1\\nProsci ®    Best Pra...</td>\n",
       "      <td>The text is a summary of the 11th edition of B...</td>\n",
       "    </tr>\n",
       "    <tr>\n",
       "      <th>2</th>\n",
       "      <td>Best-Practices-in-Change-Management-Full-Repor...</td>\n",
       "      <td>.pdf</td>\n",
       "      <td>3</td>\n",
       "      <td>© 2020 Prosci Inc.  •  3\\nProsci ®    Best Pra...</td>\n",
       "      <td>This text is a table of contents for a documen...</td>\n",
       "    </tr>\n",
       "    <tr>\n",
       "      <th>3</th>\n",
       "      <td>Best-Practices-in-Change-Management-Full-Repor...</td>\n",
       "      <td>.pdf</td>\n",
       "      <td>3</td>\n",
       "      <td>Chapter 6 : Methodology  ........................</td>\n",
       "      <td>In Chapter 6, the methodology for initiating c...</td>\n",
       "    </tr>\n",
       "    <tr>\n",
       "      <th>4</th>\n",
       "      <td>Best-Practices-in-Change-Management-Full-Repor...</td>\n",
       "      <td>.pdf</td>\n",
       "      <td>4</td>\n",
       "      <td>4  •  © 2020 Prosci Inc. \\nChapter 8 : Change ...</td>\n",
       "      <td>This text is a table of contents for a book on...</td>\n",
       "    </tr>\n",
       "  </tbody>\n",
       "</table>\n",
       "</div>"
      ],
      "text/plain": [
       "                                           file_name file_type  page_number  \\\n",
       "0  Best-Practices-in-Change-Management-Full-Repor...      .pdf            0   \n",
       "1  Best-Practices-in-Change-Management-Full-Repor...      .pdf            1   \n",
       "2  Best-Practices-in-Change-Management-Full-Repor...      .pdf            3   \n",
       "3  Best-Practices-in-Change-Management-Full-Repor...      .pdf            3   \n",
       "4  Best-Practices-in-Change-Management-Full-Repor...      .pdf            4   \n",
       "\n",
       "                                              chunks  \\\n",
       "0  11th EditionBest Practices In  \\nChange Manage...   \n",
       "1  © 2020 Prosci Inc.  •  1\\nProsci ®    Best Pra...   \n",
       "2  © 2020 Prosci Inc.  •  3\\nProsci ®    Best Pra...   \n",
       "3  Chapter 6 : Methodology  ........................   \n",
       "4  4  •  © 2020 Prosci Inc. \\nChapter 8 : Change ...   \n",
       "\n",
       "                                     concise_summary  \n",
       "0  The 11th edition of the Prosci Benchmarking Re...  \n",
       "1  The text is a summary of the 11th edition of B...  \n",
       "2  This text is a table of contents for a documen...  \n",
       "3  In Chapter 6, the methodology for initiating c...  \n",
       "4  This text is a table of contents for a book on...  "
      ]
     },
     "execution_count": 24,
     "metadata": {},
     "output_type": "execute_result"
    }
   ],
   "source": [
    "import pandas as pd\n",
    "from pathlib import Path as p\n",
    "final_mp_data = []\n",
    "for doc, out in zip(map_reduce_outputs[\"input_documents\"], map_reduce_outputs[\"intermediate_steps\"]):\n",
    "    output = {}\n",
    "    output[\"file_name\"] = p(doc.metadata[\"source\"]).stem\n",
    "    output[\"file_type\"] = p(doc.metadata[\"source\"]).suffix\n",
    "    output[\"page_number\"] = doc.metadata[\"page\"]\n",
    "    output[\"chunks\"] = doc.page_content\n",
    "    output[\"concise_summary\"] = out\n",
    "    final_mp_data.append(output)\n",
    "\n",
    "pdf_mp_summary = pd.DataFrame.from_dict(final_mp_data)\n",
    "pdf_mp_summary = pdf_mp_summary.sort_values(\n",
    "    by=[\"file_name\", \"page_number\"]\n",
    ")  # sorting the dataframe by filename and page_number\n",
    "pdf_mp_summary.reset_index(inplace=True, drop=True)\n",
    "pdf_mp_summary.head()"
   ]
  },
  {
   "cell_type": "code",
   "execution_count": 23,
   "metadata": {},
   "outputs": [
    {
     "name": "stdout",
     "output_type": "stream",
     "text": [
      "[Context]\n",
      "Chapter 6 : Methodology  ............................................................................................................................. 105\n",
      "Initiating Change Management .............................................................................................................. 107\n",
      "Application of Methodology  ................................................................................................................... 110\n",
      "Methodologies Used  ............................................................................................................................... 114\n",
      "Chapter 7 : CM Budget, Resources and Team Structure  ...................................................................... 119\n",
      "Change Management Budget  ................................................................................................................ 121\n",
      "Change Management Resources  ........................................................................................................... 127\n",
      "Team Structure Used  .............................................................................................................................. 136\n",
      "\n",
      "\n",
      " [Simple Summary]\n",
      "In Chapter 6, the methodology for initiating change management is discussed, including its application and the specific methodologies used. Chapter 7 focuses on the budget, resources, and team structure for change management, with details on the budget, resources, and team structure used.\n",
      "\n",
      "\n",
      " [Page number]\n",
      "3\n",
      "\n",
      "\n",
      " [Source: file_name]\n",
      "Best-Practices-in-Change-Management-Full-Report-Digital-11th-Edition\n"
     ]
    }
   ],
   "source": [
    "index = 3\n",
    "print(\"[Context]\")\n",
    "print(pdf_mp_summary[\"chunks\"].iloc[index])\n",
    "print(\"\\n\\n [Simple Summary]\")\n",
    "print(pdf_mp_summary[\"concise_summary\"].iloc[index])\n",
    "print(\"\\n\\n [Page number]\")\n",
    "print(pdf_mp_summary[\"page_number\"].iloc[index])\n",
    "print(\"\\n\\n [Source: file_name]\")\n",
    "print(pdf_mp_summary[\"file_name\"].iloc[index])"
   ]
  }
 ],
 "metadata": {
  "kernelspec": {
   "display_name": ".venv",
   "language": "python",
   "name": "python3"
  },
  "language_info": {
   "codemirror_mode": {
    "name": "ipython",
    "version": 3
   },
   "file_extension": ".py",
   "mimetype": "text/x-python",
   "name": "python",
   "nbconvert_exporter": "python",
   "pygments_lexer": "ipython3",
   "version": "3.9.6"
  },
  "orig_nbformat": 4
 },
 "nbformat": 4,
 "nbformat_minor": 2
}
