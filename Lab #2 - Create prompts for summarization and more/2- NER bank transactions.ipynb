{
 "cells": [
  {
   "cell_type": "markdown",
   "metadata": {},
   "source": [
    "NER (Named Entity Recognition) - a banking transactions example"
   ]
  },
  {
   "cell_type": "code",
   "execution_count": 3,
   "metadata": {},
   "outputs": [],
   "source": [
    "from dotenv import load_dotenv\n",
    "import os\n",
    "from openai import AzureOpenAI\n",
    "from IPython.display import display, HTML, JSON, Markdown\n",
    "\n",
    "load_dotenv()\n",
    "OPENAI_API_KEY = os.getenv(\"OPENAI_API_KEY\")\n",
    "OPENAI_DEPLOYMENT_ENDPOINT = os.getenv(\"OPENAI_DEPLOYMENT_ENDPOINT\")\n",
    "OPENAI_DEPLOYMENT_NAME = os.getenv(\"OPENAI_DEPLOYMENT_NAME\")\n",
    "OPENAI_MODEL_NAME = os.getenv(\"OPENAI_MODEL_NAME\")\n",
    "OPENAI_DEPLOYMENT_VERSION = os.getenv(\"OPENAI_DEPLOYMENT_VERSION\")\n",
    "\n",
    "client = AzureOpenAI(\n",
    "  azure_endpoint = OPENAI_DEPLOYMENT_ENDPOINT, \n",
    "  api_key=OPENAI_API_KEY,  \n",
    "  api_version=\"2023-05-15\"\n",
    ")"
   ]
  },
  {
   "cell_type": "code",
   "execution_count": 39,
   "metadata": {},
   "outputs": [],
   "source": [
    "\n",
    "def call_openAI(text):\n",
    "    response = client.chat.completions.create(\n",
    "        model=OPENAI_DEPLOYMENT_NAME,\n",
    "        messages = [\n",
    "            {\"role\":\"system\",\n",
    "              \"content\":\"You are an AI assistant that helps people find information. \" + \n",
    "                        \"1. Evaluate the given Bank Transaction description and extract ONLY location, category and merchant information as follows: \" +\n",
    "                            \"LOCATION: cities, countries, continents\\n\" +\n",
    "                            \"CATEGORY: Transaction category. Can be one of the following: TRANSPORTATION, GROCERIES, LEISURE, HEALTH, UTILITIES, BANK TRANSACTION \\n\" +\n",
    "                            \"MERCHANT: Can be a merchant, company or organization \\n\" +\n",
    "                        \"2. Do not provide any additional examples to the output.\\n\" + \n",
    "                        \"3. Provide the output in a JSON format as follows only for the input Bank Transaction description:\\n\" + \n",
    "                            \"Input Bank transaction description: <the given description>\\n\"+\n",
    "                            \"Output \\n\"+\n",
    "                            \"{\\n\"+\n",
    "                              \"\\\"LOCATION\\\": [\\\"\\\"],\\n\"+\n",
    "                              \"\\\"CATEGORY\\\": [],\\n\"+\n",
    "                              \"\\\"MERCHANT\\\": [\\\"\\\"] \\n\"+\n",
    "                            \"}\\n\"},\n",
    "            {\"role\":\"user\",\"content\":text}],\n",
    "        temperature=0.7,\n",
    "        max_tokens=800,\n",
    "        top_p=0.95,\n",
    "        frequency_penalty=0,\n",
    "        presence_penalty=0,\n",
    "        stop=None\n",
    "    )\n",
    "\n",
    "    return response.choices[0].message.content\n"
   ]
  },
  {
   "cell_type": "code",
   "execution_count": 40,
   "metadata": {},
   "outputs": [
    {
     "data": {
      "text/html": [
       "{\n",
       "\"LOCATION\": [],\n",
       "\"CATEGORY\": [\"BANK TRANSACTION\"],\n",
       "\"MERCHANT\": [\"British Telecom\"]\n",
       "}"
      ],
      "text/plain": [
       "<IPython.core.display.HTML object>"
      ]
     },
     "metadata": {},
     "output_type": "display_data"
    }
   ],
   "source": [
    "answer = call_openAI(\"May 15th, 2023 - British Telecom - $1,500\")\n",
    "display(HTML(answer))"
   ]
  },
  {
   "cell_type": "code",
   "execution_count": 41,
   "metadata": {},
   "outputs": [
    {
     "data": {
      "text/html": [
       "{\n",
       "\"LOCATION\": [\"Amsterdam\", \"Netherlands\", \"Europe\"],\n",
       "\"CATEGORY\": [\"TRANSPORTATION\"],\n",
       "\"MERCHANT\": [\"Uber BV\"]\n",
       "}"
      ],
      "text/plain": [
       "<IPython.core.display.HTML object>"
      ]
     },
     "metadata": {},
     "output_type": "display_data"
    }
   ],
   "source": [
    "answer = call_openAI(\"May 10, 2023 - Uber BV Toll Free Amsterdam NLD - $10\")\n",
    "display(HTML(answer))"
   ]
  },
  {
   "cell_type": "code",
   "execution_count": 42,
   "metadata": {},
   "outputs": [
    {
     "data": {
      "text/html": [
       "{\n",
       "\"LOCATION\": [\"DALLAS\", \"TX\"],\n",
       "\"CATEGORY\": [\"HEALTH\"],\n",
       "\"MERCHANT\": [\"THE AMERICAN HEART ASSOCIATION\"]\n",
       "}"
      ],
      "text/plain": [
       "<IPython.core.display.HTML object>"
      ]
     },
     "metadata": {},
     "output_type": "display_data"
    }
   ],
   "source": [
    "answer = call_openAI(\"May 10, 2023 - THE AMERICAN HEART ASSOCIATION DALLAS TX - $83.2\")\n",
    "display(HTML(answer))"
   ]
  },
  {
   "cell_type": "code",
   "execution_count": 43,
   "metadata": {},
   "outputs": [
    {
     "data": {
      "text/html": [
       "{\n",
       "\"LOCATION\": [],\n",
       "\"CATEGORY\": [\"TAXES\"],\n",
       "\"MERCHANT\": [\"Impuestos IVA\"]\n",
       "}"
      ],
      "text/plain": [
       "<IPython.core.display.HTML object>"
      ]
     },
     "metadata": {},
     "output_type": "display_data"
    }
   ],
   "source": [
    "answer = call_openAI(\"10 Mayo, 2023 - Impuestos IVA - $83.2\")\n",
    "display(HTML(answer))"
   ]
  },
  {
   "cell_type": "code",
   "execution_count": 44,
   "metadata": {},
   "outputs": [
    {
     "data": {
      "text/html": [
       "{\n",
       "\"LOCATION\": [\"Madrid\"],\n",
       "\"CATEGORY\": [\"BANK TRANSACTION\"],\n",
       "\"MERCHANT\": [\"Banco Santander\"]\n",
       "}"
      ],
      "text/plain": [
       "<IPython.core.display.HTML object>"
      ]
     },
     "metadata": {},
     "output_type": "display_data"
    }
   ],
   "source": [
    "answer = call_openAI(\"10 Mayo, 2023 - Transferencia Banco Santander Madrid - $83.2\")\n",
    "display(HTML(answer))"
   ]
  },
  {
   "cell_type": "markdown",
   "metadata": {},
   "source": [
    "TASK: Change the call_openAI function and enable it to produce also a date field in the format YYYY-MM-DD"
   ]
  }
 ],
 "metadata": {
  "kernelspec": {
   "display_name": ".venv",
   "language": "python",
   "name": "python3"
  },
  "language_info": {
   "codemirror_mode": {
    "name": "ipython",
    "version": 3
   },
   "file_extension": ".py",
   "mimetype": "text/x-python",
   "name": "python",
   "nbconvert_exporter": "python",
   "pygments_lexer": "ipython3",
   "version": "3.9.6"
  },
  "orig_nbformat": 4
 },
 "nbformat": 4,
 "nbformat_minor": 2
}
