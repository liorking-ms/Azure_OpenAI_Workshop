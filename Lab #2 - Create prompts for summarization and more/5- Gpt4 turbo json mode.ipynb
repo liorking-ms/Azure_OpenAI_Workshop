{
 "cells": [
  {
   "cell_type": "markdown",
   "metadata": {},
   "source": [
    "#### Call OpenAI to generate JSON from user's input ####"
   ]
  },
  {
   "cell_type": "code",
   "execution_count": 14,
   "metadata": {},
   "outputs": [],
   "source": [
    "import json\n",
    "import os\n",
    "from dotenv import load_dotenv\n",
    "from openai import AzureOpenAI\n",
    "from IPython.display import display, HTML, JSON, Markdown"
   ]
  },
  {
   "cell_type": "code",
   "execution_count": 15,
   "metadata": {},
   "outputs": [],
   "source": [
    "load_dotenv()\n",
    "OPENAI_API_KEY_GPT4 = os.getenv(\"OPENAI_API_KEY_GPT4\")\n",
    "OPENAI_DEPLOYMENT_ENDPOINT_GPT4 = os.getenv(\"OPENAI_DEPLOYMENT_ENDPOINT_GPT4\")\n",
    "OPENAI_DEPLOYMENT_NAME_GPT4 = os.getenv(\"OPENAI_DEPLOYMENT_NAME_GPT4\")\n",
    "OPENAI_MODEL_NAME_GPT4 = os.getenv(\"OPENAI_MODEL_NAME_GPT4\")\n",
    "OPENAI_DEPLOYMENT_VERSION_GPT4 = os.getenv(\"OPENAI_DEPLOYMENT_VERSION_GPT4\")\n",
    "\n",
    "\n",
    "client = AzureOpenAI(\n",
    "  azure_endpoint = OPENAI_DEPLOYMENT_ENDPOINT_GPT4, \n",
    "  api_key=OPENAI_API_KEY_GPT4,  \n",
    "  api_version=OPENAI_DEPLOYMENT_VERSION_GPT4\n",
    ")\n"
   ]
  },
  {
   "cell_type": "code",
   "execution_count": 28,
   "metadata": {},
   "outputs": [],
   "source": [
    "def call_openAI(text):\n",
    "    message_text = [\n",
    "        {\"role\":\"system\",\n",
    "         \"content\":\"You are an assistant designed to extract entities from a user question. \"+\n",
    "                   \"Users will paste in a string of text and you will respond with entities you have extracted from the text as a JSON object. \" +\n",
    "                   \"Here is an example of your output format:{moods:[],instruments:[],genres:[], suggestions:mood:[],instrument:[],genre:[]} \"\n",
    "        },\n",
    "        {\"role\":\"user\",\"content\":text}]\n",
    "    response = client.chat.completions.create(\n",
    "        model=OPENAI_DEPLOYMENT_NAME_GPT4,\n",
    "        response_format={ \"type\": \"json_object\" },\n",
    "        messages =message_text,\n",
    "        temperature=0.7,\n",
    "        max_tokens=800,\n",
    "        top_p=0.95,\n",
    "        frequency_penalty=0,\n",
    "        presence_penalty=0,\n",
    "        stop=None\n",
    "    )\n",
    "    return response.choices[0].message.content"
   ]
  },
  {
   "cell_type": "code",
   "execution_count": 29,
   "metadata": {},
   "outputs": [
    {
     "data": {
      "text/html": [
       "{\n",
       "  \"genre\": \"Chillout electronic music\",\n",
       "  \"setting\": \"coffee shop\",\n",
       "  \"instruments\": [\"piano\", \"saxophone\"]\n",
       "}"
      ],
      "text/plain": [
       "<IPython.core.display.HTML object>"
      ]
     },
     "metadata": {},
     "output_type": "display_data"
    }
   ],
   "source": [
    "query =  \"Chillout electronic music for a coffee shop with piano and saxophone\"\n",
    "answer = call_openAI(query)\n",
    "display(HTML(answer))"
   ]
  },
  {
   "cell_type": "markdown",
   "metadata": {},
   "source": []
  }
 ],
 "metadata": {
  "kernelspec": {
   "display_name": ".venv",
   "language": "python",
   "name": "python3"
  },
  "language_info": {
   "codemirror_mode": {
    "name": "ipython",
    "version": 3
   },
   "file_extension": ".py",
   "mimetype": "text/x-python",
   "name": "python",
   "nbconvert_exporter": "python",
   "pygments_lexer": "ipython3",
   "version": "3.9.6"
  },
  "orig_nbformat": 4
 },
 "nbformat": 4,
 "nbformat_minor": 2
}
