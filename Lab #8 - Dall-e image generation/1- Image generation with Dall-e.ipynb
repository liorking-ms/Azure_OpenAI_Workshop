{
 "cells": [
  {
   "cell_type": "code",
   "execution_count": null,
   "metadata": {},
   "outputs": [],
   "source": [
    "from openai import AzureOpenAI\n",
    "import os\n",
    "import requests\n",
    "from PIL import Image\n",
    "import json\n",
    "from dotenv import load_dotenv\n",
    "from IPython.display import Image\n",
    "load_dotenv()\n",
    "\n",
    "OPENAI_DALLE_ENDPOINT = os.getenv(\"OPENAI_DALLE_ENDPOINT\") \n",
    "OPENAI_DALLE_API_KEY = os.getenv(\"OPENAI_DALLE_API_KEY\")\n",
    "OPENAI_DALLE_DEPLOYMENT_NAME = os.getenv(\"OPENAI_DALLE_DEPLOYMENT_NAME\")\n",
    "\n",
    "# openai.api_base = OPENAI_DALLE_ENDPOINT\n",
    "# openai.api_key = OPENAI_DALLE_API_KEY     \n",
    "# openai.api_version = '2023-06-01-preview'\n",
    "# openai.api_type = 'azure'\n",
    "\n",
    "client = AzureOpenAI(\n",
    "    api_version=\"2023-12-01-preview\",  \n",
    "    api_key=OPENAI_DALLE_API_KEY,  \n",
    "    azure_endpoint=OPENAI_DALLE_ENDPOINT\n",
    ")\n",
    "\n",
    "# Set the directory for the stored image\n",
    "image_dir = os.path.join(os.curdir, 'images')\n",
    "# If the directory doesn't exist, create it\n",
    "if not os.path.isdir(image_dir):\n",
    "    os.mkdir(image_dir)"
   ]
  },
  {
   "cell_type": "code",
   "execution_count": null,
   "metadata": {},
   "outputs": [],
   "source": [
    "def generate_image(prompt, file_name):\n",
    "    result = client.images.generate(\n",
    "        model=OPENAI_DALLE_DEPLOYMENT_NAME,\n",
    "        prompt=prompt,\n",
    "        n=1\n",
    "    )\n",
    "    # # Create an image by using the image generation API\n",
    "    # result = openai.Image.create(\n",
    "    #     prompt=prompt,    \n",
    "    #     size='1024x1024',\n",
    "    #     n=2\n",
    "    # )\n",
    "    json_response = json.loads(result.model_dump_json())\n",
    "\n",
    "    # Initialize the image path (note the filetype should be png)\n",
    "    image_path = os.path.join(image_dir, file_name)\n",
    "\n",
    "    # Retrieve the generated image\n",
    "    image_url = json_response[\"data\"][0][\"url\"]  # extract image URL from response\n",
    "    generated_image = requests.get(image_url).content  # download the image\n",
    "    with open(image_path, \"wb\") as image_file:\n",
    "        image_file.write(generated_image)\n"
   ]
  },
  {
   "cell_type": "code",
   "execution_count": null,
   "metadata": {},
   "outputs": [],
   "source": [
    "prompt = \"A picture of a cat as a pilot of an airplane in a realistic style\"\n",
    "file_name = \"cat.png\"\n",
    "generate_image(prompt, file_name)"
   ]
  },
  {
   "cell_type": "code",
   "execution_count": null,
   "metadata": {},
   "outputs": [],
   "source": [
    "file = \"images/\" + file_name\n",
    "Image(filename=file)"
   ]
  },
  {
   "cell_type": "code",
   "execution_count": null,
   "metadata": {},
   "outputs": [],
   "source": [
    "prompt = \"An astronaut riding a zabra in Medieval Jerusalem in a van gogh style\"\n",
    "file_name = \"tiger.png\"\n",
    "generate_image(prompt, file_name)"
   ]
  },
  {
   "cell_type": "code",
   "execution_count": null,
   "metadata": {},
   "outputs": [],
   "source": [
    "file = \"images/\" + file_name\n",
    "Image(filename=file)"
   ]
  }
 ],
 "metadata": {
  "kernelspec": {
   "display_name": ".venv",
   "language": "python",
   "name": "python3"
  },
  "language_info": {
   "codemirror_mode": {
    "name": "ipython",
    "version": 3
   },
   "file_extension": ".py",
   "mimetype": "text/x-python",
   "name": "python",
   "nbconvert_exporter": "python",
   "pygments_lexer": "ipython3",
   "version": "3.9.6"
  },
  "orig_nbformat": 4
 },
 "nbformat": 4,
 "nbformat_minor": 2
}
